{
 "cells": [
  {
   "cell_type": "code",
   "execution_count": 1,
   "id": "3d47a253",
   "metadata": {},
   "outputs": [],
   "source": [
    "import pandas as pd\n",
    "import numpy as np\n",
    "import matplotlib.pyplot as plt\n",
    "import plotly.express as px\n",
    "from sklearn.manifold import TSNE\n",
    "import seaborn as sns\n",
    "import cv2\n",
    "import numpy as np\n",
    "import matplotlib.pyplot as plt\n",
    "from wordcloud import WordCloud, STOPWORDS, ImageColorGenerator\n",
    "from sklearn.feature_extraction.text import TfidfVectorizer\n",
    "from sklearn.ensemble import RandomForestClassifier\n",
    "from sklearn.metrics import classification_report, confusion_matrix, accuracy_score\n",
    "import sklearn\n",
    "from sklearn.tree import DecisionTreeClassifier, plot_tree\n",
    "from sklearn.preprocessing import LabelEncoder, StandardScaler\n",
    "from sklearn.neighbors import KNeighborsClassifier\n",
    "from sklearn.metrics import classification_report,confusion_matrix, accuracy_score\n",
    "from sklearn.model_selection import train_test_split"
   ]
  },
  {
   "cell_type": "code",
   "execution_count": 12,
   "id": "6acd051c",
   "metadata": {},
   "outputs": [
    {
     "data": {
      "text/html": [
       "<div>\n",
       "<style scoped>\n",
       "    .dataframe tbody tr th:only-of-type {\n",
       "        vertical-align: middle;\n",
       "    }\n",
       "\n",
       "    .dataframe tbody tr th {\n",
       "        vertical-align: top;\n",
       "    }\n",
       "\n",
       "    .dataframe thead th {\n",
       "        text-align: right;\n",
       "    }\n",
       "</style>\n",
       "<table border=\"1\" class=\"dataframe\">\n",
       "  <thead>\n",
       "    <tr style=\"text-align: right;\">\n",
       "      <th></th>\n",
       "      <th>name</th>\n",
       "      <th>region</th>\n",
       "      <th>country</th>\n",
       "      <th>city\\state</th>\n",
       "      <th>address</th>\n",
       "    </tr>\n",
       "  </thead>\n",
       "  <tbody>\n",
       "    <tr>\n",
       "      <th>0</th>\n",
       "      <td>Aarhus University</td>\n",
       "      <td>Europe</td>\n",
       "      <td>Italy</td>\n",
       "      <td>Veneto</td>\n",
       "      <td>Nordre Ringgade 1\\n Aarhus Central Denmark Reg...</td>\n",
       "    </tr>\n",
       "    <tr>\n",
       "      <th>1</th>\n",
       "      <td>Arizona State University  Tempe</td>\n",
       "      <td>Europe</td>\n",
       "      <td>Spain</td>\n",
       "      <td>Valencia</td>\n",
       "      <td>University Drive and Mill Avenue\\n Tempe Arizo...</td>\n",
       "    </tr>\n",
       "    <tr>\n",
       "      <th>2</th>\n",
       "      <td>Auburn University</td>\n",
       "      <td>North America</td>\n",
       "      <td>United States</td>\n",
       "      <td>Wisconsin</td>\n",
       "      <td>Samford Hall\\n Auburn Alabama 36849 \\nUnited S...</td>\n",
       "    </tr>\n",
       "    <tr>\n",
       "      <th>3</th>\n",
       "      <td>Australian National University</td>\n",
       "      <td>North America</td>\n",
       "      <td>Canada</td>\n",
       "      <td>Ontario</td>\n",
       "      <td>Ellery Crescent Acton\\n Canberra Australian Ca...</td>\n",
       "    </tr>\n",
       "    <tr>\n",
       "      <th>4</th>\n",
       "      <td>Autonomous University of Barcelona</td>\n",
       "      <td>Europe</td>\n",
       "      <td>Italy</td>\n",
       "      <td>EmiliaRomagna</td>\n",
       "      <td>Campus de Bellaterra Edificio A\\n Cerdanyola d...</td>\n",
       "    </tr>\n",
       "  </tbody>\n",
       "</table>\n",
       "</div>"
      ],
      "text/plain": [
       "                                 name         region        country  \\\n",
       "0                   Aarhus University         Europe          Italy   \n",
       "1     Arizona State University  Tempe         Europe          Spain   \n",
       "2                   Auburn University  North America  United States   \n",
       "3      Australian National University  North America         Canada   \n",
       "4  Autonomous University of Barcelona         Europe          Italy   \n",
       "\n",
       "      city\\state                                            address  \n",
       "0         Veneto  Nordre Ringgade 1\\n Aarhus Central Denmark Reg...  \n",
       "1       Valencia  University Drive and Mill Avenue\\n Tempe Arizo...  \n",
       "2      Wisconsin  Samford Hall\\n Auburn Alabama 36849 \\nUnited S...  \n",
       "3        Ontario  Ellery Crescent Acton\\n Canberra Australian Ca...  \n",
       "4  EmiliaRomagna  Campus de Bellaterra Edificio A\\n Cerdanyola d...  "
      ]
     },
     "execution_count": 12,
     "metadata": {},
     "output_type": "execute_result"
    }
   ],
   "source": [
    "# 3. Обробка та класифікація текстових даних\n",
    "df = pd.read_csv(\"./top_universities.csv\")\n",
    "df = df.drop([\"world_ranking\", \"region_ranking\", \"country_ranking\", \"acceptance_rate\", \"publication\", \"website\", \"phone_no\"], axis=1)\n",
    "df = df.replace({\"[$&+,:;=?@#|'<>.\\-^*()%!\\\\\\[\\]]\":\"\"}, regex=True)\n",
    "df.head()"
   ]
  },
  {
   "cell_type": "code",
   "execution_count": 13,
   "id": "14745e47",
   "metadata": {},
   "outputs": [
    {
     "name": "stdout",
     "output_type": "stream",
     "text": [
      "Veneto Valencia Wisconsin Onta\n"
     ]
    }
   ],
   "source": [
    "df.columns = df.columns.str.strip()\n",
    "cities = \" \".join(i for i in df.loc[:,'city\\state'])\n",
    "print(cities[:30])"
   ]
  },
  {
   "cell_type": "code",
   "execution_count": 15,
   "id": "960f72d3",
   "metadata": {},
   "outputs": [
    {
     "name": "stderr",
     "output_type": "stream",
     "text": [
      "C:\\Python310\\lib\\site-packages\\sklearn\\feature_extraction\\text.py:396: UserWarning:\n",
      "\n",
      "Your stop_words may be inconsistent with your preprocessing. Tokenizing the stop words generated tokens ['aren', 'couldn', 'didn', 'doesn', 'don', 'hadn', 'hasn', 'haven', 'isn', 'let', 'll', 'mustn', 're', 'shan', 'shouldn', 've', 'wasn', 'weren', 'won', 'wouldn'] not in stop_words.\n",
      "\n"
     ]
    }
   ],
   "source": [
    "names = df.loc[:, 'name']\n",
    "vectorizer = TfidfVectorizer(max_features = 1500, min_df = 5, max_df = 0.7, stop_words = set(STOPWORDS))\n",
    "X = vectorizer.fit_transform(names)\n",
    "Y = df.loc[:, 'country']\n",
    "X_train, X_test, Y_train, Y_test = train_test_split(X, Y, test_size = 0.2, random_state = 0)\n",
    "classifier = RandomForestClassifier(n_estimators = 1000, random_state = 0)\n",
    "classifier.fit(X_train, Y_train) \n",
    "Y_pred = classifier.predict(X_test)"
   ]
  },
  {
   "cell_type": "code",
   "execution_count": 16,
   "id": "266c3019",
   "metadata": {},
   "outputs": [
    {
     "name": "stdout",
     "output_type": "stream",
     "text": [
      "[[ 0  0  0  0  0  0  0  0  0  0  0  0  0  0  0  0  0  1]\n",
      " [ 0  0  0  0  0  0  0  0  0  0  0  0  0  0  0  0  0  1]\n",
      " [ 0  0  0  0  0  0  0  0  0  0  0  0  0  0  0  0  0  1]\n",
      " [ 0  0  0  0  0  0  0  0  0  0  0  0  0  0  0  0  0  1]\n",
      " [ 0  0  0  0  0  0  0  0  0  0  0  0  0  0  0  0  0  3]\n",
      " [ 0  0  0  0  0  0  0  0  0  0  0  0  0  0  0  0  0  4]\n",
      " [ 0  0  0  0  0  0  0  0  0  0  0  0  0  0  1  0  0  1]\n",
      " [ 0  0  0  0  0  0  0  0  0  0  0  0  0  0  0  0  0  1]\n",
      " [ 0  0  0  0  1  0  0  0  0  0  0  0  0  0  0  0  0  1]\n",
      " [ 0  0  0  0  0  0  0  0  0  0  0  0  0  0  0  0  0  1]\n",
      " [ 0  0  0  0  0  0  0  0  0  0  0  0  0  0  0  0  0  2]\n",
      " [ 0  0  0  0  0  0  0  0  0  0  0  0  0  0  0  0  0  5]\n",
      " [ 0  0  0  0  0  0  0  0  0  0  0  0  0  0  0  0  0  1]\n",
      " [ 0  0  0  0  0  0  0  0  0  0  0  0  0  0  0  0  0  2]\n",
      " [ 0  0  0  0  0  0  0  0  0  0  0  0  0  0  0  0  0  2]\n",
      " [ 0  0  0  0  0  0  0  0  0  0  0  0  0  0  0  0  0  2]\n",
      " [ 0  0  0  0  0  0  0  0  0  0  0  0  0  0  0  0  0  6]\n",
      " [ 0  0  0  0  0  0  0  0  0  0  0  0  0  0  0  0  0 23]]\n"
     ]
    }
   ],
   "source": [
    "print(confusion_matrix(Y_test, Y_pred))"
   ]
  },
  {
   "cell_type": "code",
   "execution_count": 17,
   "id": "0592f76f",
   "metadata": {},
   "outputs": [
    {
     "name": "stdout",
     "output_type": "stream",
     "text": [
      "                precision    recall  f1-score   support\n",
      "\n",
      "     Australia       0.00      0.00      0.00         1\n",
      "       Austria       0.00      0.00      0.00         1\n",
      "       Belgium       0.00      0.00      0.00         1\n",
      "        Brazil       0.00      0.00      0.00         1\n",
      "        Canada       0.00      0.00      0.00         3\n",
      "         China       0.00      0.00      0.00         4\n",
      "       Denmark       0.00      0.00      0.00         2\n",
      "       Finland       0.00      0.00      0.00         1\n",
      "       Germany       0.00      0.00      0.00         2\n",
      "        Greece       0.00      0.00      0.00         1\n",
      "         Italy       0.00      0.00      0.00         2\n",
      "         Japan       0.00      0.00      0.00         5\n",
      "        Mexico       0.00      0.00      0.00         1\n",
      "   Netherlands       0.00      0.00      0.00         2\n",
      "        Sweden       0.00      0.00      0.00         2\n",
      "   Switzerland       0.00      0.00      0.00         2\n",
      "United Kingdom       0.00      0.00      0.00         6\n",
      " United States       0.40      1.00      0.57        23\n",
      "\n",
      "      accuracy                           0.38        60\n",
      "     macro avg       0.02      0.06      0.03        60\n",
      "  weighted avg       0.15      0.38      0.22        60\n",
      "\n"
     ]
    },
    {
     "name": "stderr",
     "output_type": "stream",
     "text": [
      "C:\\Python310\\lib\\site-packages\\sklearn\\metrics\\_classification.py:1308: UndefinedMetricWarning:\n",
      "\n",
      "Precision and F-score are ill-defined and being set to 0.0 in labels with no predicted samples. Use `zero_division` parameter to control this behavior.\n",
      "\n",
      "C:\\Python310\\lib\\site-packages\\sklearn\\metrics\\_classification.py:1308: UndefinedMetricWarning:\n",
      "\n",
      "Precision and F-score are ill-defined and being set to 0.0 in labels with no predicted samples. Use `zero_division` parameter to control this behavior.\n",
      "\n",
      "C:\\Python310\\lib\\site-packages\\sklearn\\metrics\\_classification.py:1308: UndefinedMetricWarning:\n",
      "\n",
      "Precision and F-score are ill-defined and being set to 0.0 in labels with no predicted samples. Use `zero_division` parameter to control this behavior.\n",
      "\n"
     ]
    }
   ],
   "source": [
    "print(classification_report(Y_test, Y_pred))"
   ]
  },
  {
   "cell_type": "code",
   "execution_count": 18,
   "id": "459fd691",
   "metadata": {},
   "outputs": [
    {
     "name": "stdout",
     "output_type": "stream",
     "text": [
      "0.38333333333333336\n"
     ]
    }
   ],
   "source": [
    "print(accuracy_score(Y_test, Y_pred))"
   ]
  }
 ],
 "metadata": {
  "kernelspec": {
   "display_name": "Python 3 (ipykernel)",
   "language": "python",
   "name": "python3"
  },
  "language_info": {
   "codemirror_mode": {
    "name": "ipython",
    "version": 3
   },
   "file_extension": ".py",
   "mimetype": "text/x-python",
   "name": "python",
   "nbconvert_exporter": "python",
   "pygments_lexer": "ipython3",
   "version": "3.10.0"
  }
 },
 "nbformat": 4,
 "nbformat_minor": 5
}
