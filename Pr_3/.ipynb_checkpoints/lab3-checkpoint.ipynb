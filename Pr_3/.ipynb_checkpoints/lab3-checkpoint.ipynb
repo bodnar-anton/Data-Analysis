{
 "cells": [
  {
   "cell_type": "code",
   "execution_count": 1,
   "id": "760ff5ae",
   "metadata": {},
   "outputs": [],
   "source": [
    "import pandas as pd\n",
    "import numpy as np\n",
    "import matplotlib.pyplot as plt\n",
    "import seaborn as sns\n",
    "import sklearn\n",
    "from sklearn.tree import DecisionTreeClassifier, plot_tree\n",
    "from sklearn.preprocessing import LabelEncoder, StandardScaler\n",
    "from sklearn.neighbors import KNeighborsClassifier\n",
    "from sklearn.metrics import classification_report,confusion_matrix, accuracy_score\n",
    "from sklearn.model_selection import train_test_split\n",
    "from sklearn.svm import SVC\n",
    "from sklearn.metrics import classification_report,confusion_matrix\n",
    "from sklearn.model_selection import GridSearchCV\n",
    "from sklearn.ensemble import RandomForestClassifier\n",
    "from sklearn.metrics import recall_score\n",
    "from sklearn.ensemble import AdaBoostClassifier"
   ]
  },
  {
   "cell_type": "code",
   "execution_count": 2,
   "id": "46e53e8a",
   "metadata": {},
   "outputs": [],
   "source": [
    "df = pd.read_csv(\"./chip_dataset.csv\")"
   ]
  },
  {
   "cell_type": "code",
   "execution_count": 3,
   "id": "395b8a3f",
   "metadata": {},
   "outputs": [
    {
     "name": "stdout",
     "output_type": "stream",
     "text": [
      "<class 'pandas.core.frame.DataFrame'>\n",
      "RangeIndex: 4854 entries, 0 to 4853\n",
      "Data columns (total 14 columns):\n",
      " #   Column                 Non-Null Count  Dtype  \n",
      "---  ------                 --------------  -----  \n",
      " 0   Unnamed: 0             4854 non-null   int64  \n",
      " 1   Product                4854 non-null   object \n",
      " 2   Type                   4854 non-null   object \n",
      " 3   Release Date           4854 non-null   object \n",
      " 4   Process Size (nm)      4845 non-null   float64\n",
      " 5   TDP (W)                4228 non-null   float64\n",
      " 6   Die Size (mm^2)        4139 non-null   float64\n",
      " 7   Transistors (million)  4143 non-null   float64\n",
      " 8   Freq (MHz)             4854 non-null   float64\n",
      " 9   Foundry                4854 non-null   object \n",
      " 10  Vendor                 4854 non-null   object \n",
      " 11  FP16 GFLOPS            536 non-null    float64\n",
      " 12  FP32 GFLOPS            1948 non-null   float64\n",
      " 13  FP64 GFLOPS            1306 non-null   float64\n",
      "dtypes: float64(8), int64(1), object(5)\n",
      "memory usage: 531.0+ KB\n"
     ]
    }
   ],
   "source": [
    "# №1 Вивести назви колонок і розмір датасета\n",
    "df.info()"
   ]
  },
  {
   "cell_type": "code",
   "execution_count": 4,
   "id": "1ea759ba",
   "metadata": {},
   "outputs": [],
   "source": [
    "# №2 Опрацювати пропуски\n",
    "df = df.drop([\"Unnamed: 0\", \"Vendor\", \"FP16 GFLOPS\", \"FP32 GFLOPS\", \"FP64 GFLOPS\"], axis=1)"
   ]
  },
  {
   "cell_type": "code",
   "execution_count": 5,
   "id": "4eb47bf1",
   "metadata": {},
   "outputs": [
    {
     "data": {
      "text/html": [
       "<div>\n",
       "<style scoped>\n",
       "    .dataframe tbody tr th:only-of-type {\n",
       "        vertical-align: middle;\n",
       "    }\n",
       "\n",
       "    .dataframe tbody tr th {\n",
       "        vertical-align: top;\n",
       "    }\n",
       "\n",
       "    .dataframe thead th {\n",
       "        text-align: right;\n",
       "    }\n",
       "</style>\n",
       "<table border=\"1\" class=\"dataframe\">\n",
       "  <thead>\n",
       "    <tr style=\"text-align: right;\">\n",
       "      <th></th>\n",
       "      <th>Product</th>\n",
       "      <th>Type</th>\n",
       "      <th>Release Date</th>\n",
       "      <th>Process Size (nm)</th>\n",
       "      <th>TDP (W)</th>\n",
       "      <th>Die Size (mm^2)</th>\n",
       "      <th>Transistors (million)</th>\n",
       "      <th>Freq (MHz)</th>\n",
       "      <th>Foundry</th>\n",
       "    </tr>\n",
       "  </thead>\n",
       "  <tbody>\n",
       "    <tr>\n",
       "      <th>0</th>\n",
       "      <td>AMD Athlon 64 3500+</td>\n",
       "      <td>CPU</td>\n",
       "      <td>2007-02-20</td>\n",
       "      <td>65.0</td>\n",
       "      <td>45.0</td>\n",
       "      <td>77.0</td>\n",
       "      <td>122.0</td>\n",
       "      <td>2200.0</td>\n",
       "      <td>Unknown</td>\n",
       "    </tr>\n",
       "    <tr>\n",
       "      <th>1</th>\n",
       "      <td>AMD Athlon 200GE</td>\n",
       "      <td>CPU</td>\n",
       "      <td>2018-09-06</td>\n",
       "      <td>14.0</td>\n",
       "      <td>35.0</td>\n",
       "      <td>192.0</td>\n",
       "      <td>4800.0</td>\n",
       "      <td>3200.0</td>\n",
       "      <td>Unknown</td>\n",
       "    </tr>\n",
       "    <tr>\n",
       "      <th>2</th>\n",
       "      <td>Intel Core i5-1145G7</td>\n",
       "      <td>CPU</td>\n",
       "      <td>2020-09-02</td>\n",
       "      <td>10.0</td>\n",
       "      <td>28.0</td>\n",
       "      <td>NaN</td>\n",
       "      <td>NaN</td>\n",
       "      <td>2600.0</td>\n",
       "      <td>Intel</td>\n",
       "    </tr>\n",
       "    <tr>\n",
       "      <th>3</th>\n",
       "      <td>Intel Xeon E5-2603 v2</td>\n",
       "      <td>CPU</td>\n",
       "      <td>2013-09-01</td>\n",
       "      <td>22.0</td>\n",
       "      <td>80.0</td>\n",
       "      <td>160.0</td>\n",
       "      <td>1400.0</td>\n",
       "      <td>1800.0</td>\n",
       "      <td>Intel</td>\n",
       "    </tr>\n",
       "    <tr>\n",
       "      <th>4</th>\n",
       "      <td>AMD Phenom II X4 980 BE</td>\n",
       "      <td>CPU</td>\n",
       "      <td>2011-05-03</td>\n",
       "      <td>45.0</td>\n",
       "      <td>125.0</td>\n",
       "      <td>258.0</td>\n",
       "      <td>758.0</td>\n",
       "      <td>3700.0</td>\n",
       "      <td>Unknown</td>\n",
       "    </tr>\n",
       "  </tbody>\n",
       "</table>\n",
       "</div>"
      ],
      "text/plain": [
       "                   Product Type Release Date  Process Size (nm)  TDP (W)  \\\n",
       "0      AMD Athlon 64 3500+  CPU   2007-02-20               65.0     45.0   \n",
       "1         AMD Athlon 200GE  CPU   2018-09-06               14.0     35.0   \n",
       "2     Intel Core i5-1145G7  CPU   2020-09-02               10.0     28.0   \n",
       "3    Intel Xeon E5-2603 v2  CPU   2013-09-01               22.0     80.0   \n",
       "4  AMD Phenom II X4 980 BE  CPU   2011-05-03               45.0    125.0   \n",
       "\n",
       "   Die Size (mm^2)  Transistors (million)  Freq (MHz)  Foundry  \n",
       "0             77.0                  122.0      2200.0  Unknown  \n",
       "1            192.0                 4800.0      3200.0  Unknown  \n",
       "2              NaN                    NaN      2600.0    Intel  \n",
       "3            160.0                 1400.0      1800.0    Intel  \n",
       "4            258.0                  758.0      3700.0  Unknown  "
      ]
     },
     "execution_count": 5,
     "metadata": {},
     "output_type": "execute_result"
    }
   ],
   "source": [
    "df.head()"
   ]
  },
  {
   "cell_type": "code",
   "execution_count": 6,
   "id": "f25a4d22",
   "metadata": {},
   "outputs": [],
   "source": [
    "df.dropna(inplace=True)"
   ]
  },
  {
   "cell_type": "code",
   "execution_count": 7,
   "id": "daf2e799",
   "metadata": {},
   "outputs": [
    {
     "name": "stdout",
     "output_type": "stream",
     "text": [
      "<class 'pandas.core.frame.DataFrame'>\n",
      "Int64Index: 3422 entries, 0 to 4851\n",
      "Data columns (total 9 columns):\n",
      " #   Column                 Non-Null Count  Dtype  \n",
      "---  ------                 --------------  -----  \n",
      " 0   Product                3422 non-null   object \n",
      " 1   Type                   3422 non-null   object \n",
      " 2   Release Date           3422 non-null   object \n",
      " 3   Process Size (nm)      3422 non-null   float64\n",
      " 4   TDP (W)                3422 non-null   float64\n",
      " 5   Die Size (mm^2)        3422 non-null   float64\n",
      " 6   Transistors (million)  3422 non-null   float64\n",
      " 7   Freq (MHz)             3422 non-null   float64\n",
      " 8   Foundry                3422 non-null   object \n",
      "dtypes: float64(5), object(4)\n",
      "memory usage: 267.3+ KB\n"
     ]
    }
   ],
   "source": [
    "df.info()"
   ]
  },
  {
   "cell_type": "code",
   "execution_count": 8,
   "id": "56021133",
   "metadata": {},
   "outputs": [
    {
     "data": {
      "text/plain": [
       "<AxesSubplot: xlabel='Release Date', ylabel='Foundry'>"
      ]
     },
     "execution_count": 8,
     "metadata": {},
     "output_type": "execute_result"
    },
    {
     "data": {
      "image/png": "[encoded data removed]",
      "text/plain": [
       "<Figure size 432x288 with 2 Axes>"
      ]
     },
     "metadata": {
      "needs_background": "light"
     },
     "output_type": "display_data"
    }
   ],
   "source": [
    "# №3 Візуалізувати дані\n",
    "sns.heatmap(df.pivot_table(index=\"Foundry\",columns=\"Release Date\", values=\"Process Size (nm)\"))"
   ]
  },
  {
   "cell_type": "code",
   "execution_count": 9,
   "id": "ff60af47",
   "metadata": {},
   "outputs": [
    {
     "data": {
      "text/plain": [
       "<AxesSubplot: xlabel='Freq (MHz)', ylabel='Count'>"
      ]
     },
     "execution_count": 9,
     "metadata": {},
     "output_type": "execute_result"
    },
    {
     "data": {
      "image/png": "[encoded data removed]",
      "text/plain": [
       "<Figure size 1080x432 with 1 Axes>"
      ]
     },
     "metadata": {},
     "output_type": "display_data"
    }
   ],
   "source": [
    "sns.set(rc={\"figure.figsize\" : (15,6)})\n",
    "sns.histplot(x=\"Freq (MHz)\", data=df)"
   ]
  },
  {
   "cell_type": "code",
   "execution_count": 10,
   "id": "ccc558ee",
   "metadata": {},
   "outputs": [
    {
     "data": {
      "text/plain": [
       "<AxesSubplot: xlabel='TDP (W)', ylabel='Count'>"
      ]
     },
     "execution_count": 10,
     "metadata": {},
     "output_type": "execute_result"
    },
    {
     "data": {
      "image/png": "[encoded data removed]",
      "text/plain": [
       "<Figure size 1080x432 with 1 Axes>"
      ]
     },
     "metadata": {},
     "output_type": "display_data"
    }
   ],
   "source": [
    "sns.histplot(x=\"TDP (W)\", data=df)"
   ]
  },
  {
   "cell_type": "code",
   "execution_count": 11,
   "id": "4c0c2b7a",
   "metadata": {},
   "outputs": [
    {
     "data": {
      "text/plain": [
       "<AxesSubplot: xlabel='Type', ylabel='Freq (MHz)'>"
      ]
     },
     "execution_count": 11,
     "metadata": {},
     "output_type": "execute_result"
    },
    {
     "data": {
      "image/png": "[encoded data removed]",
      "text/plain": [
       "<Figure size 1080x432 with 1 Axes>"
      ]
     },
     "metadata": {},
     "output_type": "display_data"
    }
   ],
   "source": [
    "sns.boxplot(x=\"Type\", y=\"Freq (MHz)\", data=df)"
   ]
  },
  {
   "cell_type": "code",
   "execution_count": 12,
   "id": "e660c9ba",
   "metadata": {},
   "outputs": [
    {
     "data": {
      "text/plain": [
       "<AxesSubplot: xlabel='Type', ylabel='Process Size (nm)'>"
      ]
     },
     "execution_count": 12,
     "metadata": {},
     "output_type": "execute_result"
    },
    {
     "data": {
      "image/png": "[encoded data removed]",
      "text/plain": [
       "<Figure size 1080x432 with 1 Axes>"
      ]
     },
     "metadata": {},
     "output_type": "display_data"
    }
   ],
   "source": [
    "sns.boxplot(x=\"Type\", y=\"Process Size (nm)\", data=df)"
   ]
  },
  {
   "cell_type": "code",
   "execution_count": 13,
   "id": "aab8b5a5",
   "metadata": {},
   "outputs": [
    {
     "data": {
      "text/html": [
       "<div>\n",
       "<style scoped>\n",
       "    .dataframe tbody tr th:only-of-type {\n",
       "        vertical-align: middle;\n",
       "    }\n",
       "\n",
       "    .dataframe tbody tr th {\n",
       "        vertical-align: top;\n",
       "    }\n",
       "\n",
       "    .dataframe thead th {\n",
       "        text-align: right;\n",
       "    }\n",
       "</style>\n",
       "<table border=\"1\" class=\"dataframe\">\n",
       "  <thead>\n",
       "    <tr style=\"text-align: right;\">\n",
       "      <th></th>\n",
       "      <th>Product</th>\n",
       "      <th>Type</th>\n",
       "      <th>Release Date</th>\n",
       "      <th>Process Size (nm)</th>\n",
       "      <th>TDP (W)</th>\n",
       "      <th>Die Size (mm^2)</th>\n",
       "      <th>Transistors (million)</th>\n",
       "      <th>Freq (MHz)</th>\n",
       "      <th>Foundry</th>\n",
       "    </tr>\n",
       "  </thead>\n",
       "  <tbody>\n",
       "    <tr>\n",
       "      <th>0</th>\n",
       "      <td>AMD Athlon 64 3500+</td>\n",
       "      <td>CPU</td>\n",
       "      <td>2007-02-20</td>\n",
       "      <td>65.0</td>\n",
       "      <td>45.0</td>\n",
       "      <td>77.0</td>\n",
       "      <td>122.0</td>\n",
       "      <td>2200.0</td>\n",
       "      <td>Unknown</td>\n",
       "    </tr>\n",
       "    <tr>\n",
       "      <th>1</th>\n",
       "      <td>AMD Athlon 200GE</td>\n",
       "      <td>CPU</td>\n",
       "      <td>2018-09-06</td>\n",
       "      <td>14.0</td>\n",
       "      <td>35.0</td>\n",
       "      <td>192.0</td>\n",
       "      <td>4800.0</td>\n",
       "      <td>3200.0</td>\n",
       "      <td>Unknown</td>\n",
       "    </tr>\n",
       "    <tr>\n",
       "      <th>3</th>\n",
       "      <td>Intel Xeon E5-2603 v2</td>\n",
       "      <td>CPU</td>\n",
       "      <td>2013-09-01</td>\n",
       "      <td>22.0</td>\n",
       "      <td>80.0</td>\n",
       "      <td>160.0</td>\n",
       "      <td>1400.0</td>\n",
       "      <td>1800.0</td>\n",
       "      <td>Intel</td>\n",
       "    </tr>\n",
       "    <tr>\n",
       "      <th>4</th>\n",
       "      <td>AMD Phenom II X4 980 BE</td>\n",
       "      <td>CPU</td>\n",
       "      <td>2011-05-03</td>\n",
       "      <td>45.0</td>\n",
       "      <td>125.0</td>\n",
       "      <td>258.0</td>\n",
       "      <td>758.0</td>\n",
       "      <td>3700.0</td>\n",
       "      <td>Unknown</td>\n",
       "    </tr>\n",
       "    <tr>\n",
       "      <th>5</th>\n",
       "      <td>Intel Xeon E5-2470 v2</td>\n",
       "      <td>CPU</td>\n",
       "      <td>2013-09-01</td>\n",
       "      <td>22.0</td>\n",
       "      <td>95.0</td>\n",
       "      <td>160.0</td>\n",
       "      <td>1400.0</td>\n",
       "      <td>2400.0</td>\n",
       "      <td>Intel</td>\n",
       "    </tr>\n",
       "  </tbody>\n",
       "</table>\n",
       "</div>"
      ],
      "text/plain": [
       "                   Product Type Release Date  Process Size (nm)  TDP (W)  \\\n",
       "0      AMD Athlon 64 3500+  CPU   2007-02-20               65.0     45.0   \n",
       "1         AMD Athlon 200GE  CPU   2018-09-06               14.0     35.0   \n",
       "3    Intel Xeon E5-2603 v2  CPU   2013-09-01               22.0     80.0   \n",
       "4  AMD Phenom II X4 980 BE  CPU   2011-05-03               45.0    125.0   \n",
       "5    Intel Xeon E5-2470 v2  CPU   2013-09-01               22.0     95.0   \n",
       "\n",
       "   Die Size (mm^2)  Transistors (million)  Freq (MHz)  Foundry  \n",
       "0             77.0                  122.0      2200.0  Unknown  \n",
       "1            192.0                 4800.0      3200.0  Unknown  \n",
       "3            160.0                 1400.0      1800.0    Intel  \n",
       "4            258.0                  758.0      3700.0  Unknown  \n",
       "5            160.0                 1400.0      2400.0    Intel  "
      ]
     },
     "execution_count": 13,
     "metadata": {},
     "output_type": "execute_result"
    }
   ],
   "source": [
    "# №4 Нормалізувати дані\n",
    "df.head()"
   ]
  },
  {
   "cell_type": "code",
   "execution_count": 14,
   "id": "32fef86f",
   "metadata": {},
   "outputs": [
    {
     "data": {
      "text/html": [
       "<div>\n",
       "<style scoped>\n",
       "    .dataframe tbody tr th:only-of-type {\n",
       "        vertical-align: middle;\n",
       "    }\n",
       "\n",
       "    .dataframe tbody tr th {\n",
       "        vertical-align: top;\n",
       "    }\n",
       "\n",
       "    .dataframe thead th {\n",
       "        text-align: right;\n",
       "    }\n",
       "</style>\n",
       "<table border=\"1\" class=\"dataframe\">\n",
       "  <thead>\n",
       "    <tr style=\"text-align: right;\">\n",
       "      <th></th>\n",
       "      <th>Product</th>\n",
       "      <th>Type</th>\n",
       "      <th>Release Date</th>\n",
       "      <th>Process Size (nm)</th>\n",
       "      <th>TDP (W)</th>\n",
       "      <th>Die Size (mm^2)</th>\n",
       "      <th>Transistors (million)</th>\n",
       "      <th>Freq (MHz)</th>\n",
       "      <th>Foundry</th>\n",
       "    </tr>\n",
       "  </thead>\n",
       "  <tbody>\n",
       "    <tr>\n",
       "      <th>0</th>\n",
       "      <td>131</td>\n",
       "      <td>0</td>\n",
       "      <td>244</td>\n",
       "      <td>13</td>\n",
       "      <td>44</td>\n",
       "      <td>15</td>\n",
       "      <td>32</td>\n",
       "      <td>401</td>\n",
       "      <td>8</td>\n",
       "    </tr>\n",
       "    <tr>\n",
       "      <th>1</th>\n",
       "      <td>114</td>\n",
       "      <td>0</td>\n",
       "      <td>1011</td>\n",
       "      <td>4</td>\n",
       "      <td>34</td>\n",
       "      <td>81</td>\n",
       "      <td>154</td>\n",
       "      <td>437</td>\n",
       "      <td>8</td>\n",
       "    </tr>\n",
       "    <tr>\n",
       "      <th>3</th>\n",
       "      <td>2077</td>\n",
       "      <td>0</td>\n",
       "      <td>768</td>\n",
       "      <td>7</td>\n",
       "      <td>78</td>\n",
       "      <td>70</td>\n",
       "      <td>124</td>\n",
       "      <td>381</td>\n",
       "      <td>1</td>\n",
       "    </tr>\n",
       "    <tr>\n",
       "      <th>4</th>\n",
       "      <td>502</td>\n",
       "      <td>0</td>\n",
       "      <td>580</td>\n",
       "      <td>11</td>\n",
       "      <td>111</td>\n",
       "      <td>115</td>\n",
       "      <td>104</td>\n",
       "      <td>449</td>\n",
       "      <td>8</td>\n",
       "    </tr>\n",
       "    <tr>\n",
       "      <th>5</th>\n",
       "      <td>2076</td>\n",
       "      <td>0</td>\n",
       "      <td>768</td>\n",
       "      <td>7</td>\n",
       "      <td>92</td>\n",
       "      <td>70</td>\n",
       "      <td>124</td>\n",
       "      <td>412</td>\n",
       "      <td>1</td>\n",
       "    </tr>\n",
       "  </tbody>\n",
       "</table>\n",
       "</div>"
      ],
      "text/plain": [
       "   Product  Type  Release Date  Process Size (nm)  TDP (W)  Die Size (mm^2)  \\\n",
       "0      131     0           244                 13       44               15   \n",
       "1      114     0          1011                  4       34               81   \n",
       "3     2077     0           768                  7       78               70   \n",
       "4      502     0           580                 11      111              115   \n",
       "5     2076     0           768                  7       92               70   \n",
       "\n",
       "   Transistors (million)  Freq (MHz)  Foundry  \n",
       "0                     32         401        8  \n",
       "1                    154         437        8  \n",
       "3                    124         381        1  \n",
       "4                    104         449        8  \n",
       "5                    124         412        1  "
      ]
     },
     "execution_count": 14,
     "metadata": {},
     "output_type": "execute_result"
    }
   ],
   "source": [
    "df=df.apply(sklearn.preprocessing.LabelEncoder().fit_transform)\n",
    "df.head()"
   ]
  },
  {
   "cell_type": "code",
   "execution_count": 15,
   "id": "487b2184",
   "metadata": {},
   "outputs": [],
   "source": [
    "# №5.1 kNN\n",
    "X = df.drop([\"Product\", \"Type\", \"Release Date\", \"Die Size (mm^2)\", \"Transistors (million)\", \"Foundry\"], axis=1)\n",
    "y = df[\"Foundry\"]\n",
    "X_train, X_test, y_train, y_test = train_test_split(X, y, test_size=0.20)"
   ]
  },
  {
   "cell_type": "code",
   "execution_count": 16,
   "id": "ad39624a",
   "metadata": {},
   "outputs": [],
   "source": [
    "scaler = StandardScaler()\n",
    "scaler.fit(X_train)\n",
    "\n",
    "scaled_X_train = scaler.transform(X_train) \n",
    "scaled_X_test = scaler.transform(X_test)\n",
    "\n",
    "knn = KNeighborsClassifier(n_neighbors=5)\n",
    "knn.fit(scaled_X_train, y_train)\n",
    "pred = knn.predict(scaled_X_test)"
   ]
  },
  {
   "cell_type": "code",
   "execution_count": 17,
   "id": "2a19f94d",
   "metadata": {},
   "outputs": [
    {
     "name": "stdout",
     "output_type": "stream",
     "text": [
      "[[ 46   1   0   0   0   4   0   1]\n",
      " [  0 115   0   0   0   1   0  26]\n",
      " [  0   0   0   0   0   1   0   0]\n",
      " [  0   0   0   0   0   1   0   0]\n",
      " [  2   0   0   0   7   2   0   0]\n",
      " [ 11   0   0   0   0 299   2   1]\n",
      " [  0   0   0   0   0   0   1   0]\n",
      " [  0  37   0   0   0   3   0 124]]\n"
     ]
    }
   ],
   "source": [
    "print(confusion_matrix(y_test, pred))"
   ]
  },
  {
   "cell_type": "code",
   "execution_count": 18,
   "id": "dc267cd6",
   "metadata": {},
   "outputs": [
    {
     "name": "stdout",
     "output_type": "stream",
     "text": [
      "              precision    recall  f1-score   support\n",
      "\n",
      "           0       0.78      0.88      0.83        52\n",
      "           1       0.75      0.81      0.78       142\n",
      "           2       0.00      0.00      0.00         1\n",
      "           3       0.00      0.00      0.00         1\n",
      "           4       1.00      0.64      0.78        11\n",
      "           6       0.96      0.96      0.96       313\n",
      "           7       0.33      1.00      0.50         1\n",
      "           8       0.82      0.76      0.78       164\n",
      "\n",
      "    accuracy                           0.86       685\n",
      "   macro avg       0.58      0.63      0.58       685\n",
      "weighted avg       0.87      0.86      0.86       685\n",
      "\n"
     ]
    },
    {
     "name": "stderr",
     "output_type": "stream",
     "text": [
      "C:\\Python310\\lib\\site-packages\\sklearn\\metrics\\_classification.py:1308: UndefinedMetricWarning: Precision and F-score are ill-defined and being set to 0.0 in labels with no predicted samples. Use `zero_division` parameter to control this behavior.\n",
      "  _warn_prf(average, modifier, msg_start, len(result))\n",
      "C:\\Python310\\lib\\site-packages\\sklearn\\metrics\\_classification.py:1308: UndefinedMetricWarning: Precision and F-score are ill-defined and being set to 0.0 in labels with no predicted samples. Use `zero_division` parameter to control this behavior.\n",
      "  _warn_prf(average, modifier, msg_start, len(result))\n",
      "C:\\Python310\\lib\\site-packages\\sklearn\\metrics\\_classification.py:1308: UndefinedMetricWarning: Precision and F-score are ill-defined and being set to 0.0 in labels with no predicted samples. Use `zero_division` parameter to control this behavior.\n",
      "  _warn_prf(average, modifier, msg_start, len(result))\n"
     ]
    }
   ],
   "source": [
    "print(classification_report(y_test,pred))"
   ]
  },
  {
   "cell_type": "code",
   "execution_count": 19,
   "id": "466df533",
   "metadata": {},
   "outputs": [
    {
     "name": "stdout",
     "output_type": "stream",
     "text": [
      "0.8642335766423358\n"
     ]
    }
   ],
   "source": [
    "print(accuracy_score(y_test,pred))"
   ]
  },
  {
   "cell_type": "code",
   "execution_count": 20,
   "id": "4254ea47",
   "metadata": {},
   "outputs": [],
   "source": [
    "error_rate = []\n",
    "\n",
    "for i in range(1,30):\n",
    "    knn = KNeighborsClassifier(n_neighbors=i)\n",
    "    knn.fit(scaled_X_train,y_train)\n",
    "    pred_i = knn.predict(scaled_X_test)\n",
    "    error_rate.append(np.mean(pred_i != y_test))"
   ]
  },
  {
   "cell_type": "code",
   "execution_count": 21,
   "id": "c2d1e868",
   "metadata": {},
   "outputs": [
    {
     "data": {
      "image/png": "[encoded data removed]",
      "text/plain": [
       "<Figure size 720x432 with 1 Axes>"
      ]
     },
     "metadata": {},
     "output_type": "display_data"
    }
   ],
   "source": [
    "plt.figure(figsize=(10,6))\n",
    "plt.plot(range(1,30), error_rate, marker='o', markersize=10)\n",
    "plt.title('Error Rate vs. K Value')\n",
    "plt.xlabel('K')\n",
    "plt.ylabel('Error Rate')\n",
    "plt.grid()"
   ]
  },
  {
   "cell_type": "code",
   "execution_count": 22,
   "id": "9d59a64f",
   "metadata": {},
   "outputs": [
    {
     "name": "stdout",
     "output_type": "stream",
     "text": [
      "[[ 45   1   0   0   0   6   0   0]\n",
      " [  1 127   0   0   0   1   0  13]\n",
      " [  0   0   0   0   0   1   0   0]\n",
      " [  0   0   0   0   0   1   0   0]\n",
      " [  2   0   0   0   6   3   0   0]\n",
      " [ 16   0   0   0   2 294   1   0]\n",
      " [  0   0   0   0   0   1   0   0]\n",
      " [  0  55   0   0   0   6   0 103]]\n",
      "\n",
      "              precision    recall  f1-score   support\n",
      "\n",
      "           0       0.70      0.87      0.78        52\n",
      "           1       0.69      0.89      0.78       142\n",
      "           2       0.00      0.00      0.00         1\n",
      "           3       0.00      0.00      0.00         1\n",
      "           4       0.75      0.55      0.63        11\n",
      "           6       0.94      0.94      0.94       313\n",
      "           7       0.00      0.00      0.00         1\n",
      "           8       0.89      0.63      0.74       164\n",
      "\n",
      "    accuracy                           0.84       685\n",
      "   macro avg       0.50      0.48      0.48       685\n",
      "weighted avg       0.85      0.84      0.84       685\n",
      "\n"
     ]
    },
    {
     "name": "stderr",
     "output_type": "stream",
     "text": [
      "C:\\Python310\\lib\\site-packages\\sklearn\\metrics\\_classification.py:1308: UndefinedMetricWarning: Precision and F-score are ill-defined and being set to 0.0 in labels with no predicted samples. Use `zero_division` parameter to control this behavior.\n",
      "  _warn_prf(average, modifier, msg_start, len(result))\n",
      "C:\\Python310\\lib\\site-packages\\sklearn\\metrics\\_classification.py:1308: UndefinedMetricWarning: Precision and F-score are ill-defined and being set to 0.0 in labels with no predicted samples. Use `zero_division` parameter to control this behavior.\n",
      "  _warn_prf(average, modifier, msg_start, len(result))\n",
      "C:\\Python310\\lib\\site-packages\\sklearn\\metrics\\_classification.py:1308: UndefinedMetricWarning: Precision and F-score are ill-defined and being set to 0.0 in labels with no predicted samples. Use `zero_division` parameter to control this behavior.\n",
      "  _warn_prf(average, modifier, msg_start, len(result))\n"
     ]
    }
   ],
   "source": [
    "knn = KNeighborsClassifier(n_neighbors=10)\n",
    "\n",
    "knn.fit(scaled_X_train,y_train)\n",
    "pred = knn.predict(scaled_X_test)\n",
    "\n",
    "print(confusion_matrix(y_test,pred))\n",
    "print()\n",
    "print(classification_report(y_test,pred))"
   ]
  },
  {
   "cell_type": "code",
   "execution_count": 23,
   "id": "cb45b075",
   "metadata": {},
   "outputs": [],
   "source": [
    "# №5.2 Дерево прийняття рішень\n",
    "X = df.drop([\"Product\", \"Type\", \"Release Date\", \"Die Size (mm^2)\", \"Transistors (million)\", \"Foundry\"], axis=1)\n",
    "y = df[\"Foundry\"]\n",
    "X_train, X_test, y_train, y_test = train_test_split(X, y, test_size=0.20)"
   ]
  },
  {
   "cell_type": "code",
   "execution_count": 24,
   "id": "1c6cd3f7",
   "metadata": {},
   "outputs": [
    {
     "name": "stdout",
     "output_type": "stream",
     "text": [
      "<class 'pandas.core.frame.DataFrame'> <class 'pandas.core.series.Series'>\n",
      "(2737, 3) (2737,)\n"
     ]
    }
   ],
   "source": [
    "print(type(X), type(y))\n",
    "print(X_train.shape, y_train.shape)"
   ]
  },
  {
   "cell_type": "code",
   "execution_count": 25,
   "id": "107899f2",
   "metadata": {},
   "outputs": [],
   "source": [
    "model = DecisionTreeClassifier(criterion='gini')"
   ]
  },
  {
   "cell_type": "code",
   "execution_count": 31,
   "id": "6572ee86",
   "metadata": {},
   "outputs": [],
   "source": [
    "# №5.3 SVM\n",
    "X = df.drop([\"Product\", \"Type\", \"Release Date\", \"Die Size (mm^2)\", \"Transistors (million)\", \"Foundry\"], axis=1)\n",
    "y = df[\"Foundry\"]\n",
    "X_train, X_test, y_train, y_test = train_test_split(X, y, test_size=0.20)"
   ]
  },
  {
   "cell_type": "code",
   "execution_count": 32,
   "id": "62c49e8c",
   "metadata": {},
   "outputs": [],
   "source": [
    "scaler = StandardScaler()\n",
    "scaler.fit(X_train)\n",
    "scaled_X_train = scaler.transform(X_train) \n",
    "scaled_X_test = scaler.transform(X_test)"
   ]
  },
  {
   "cell_type": "code",
   "execution_count": 33,
   "id": "9cd0e03a",
   "metadata": {},
   "outputs": [
    {
     "data": {
      "text/plain": [
       "SVC(gamma=1.0)"
      ]
     },
     "execution_count": 33,
     "metadata": {},
     "output_type": "execute_result"
    }
   ],
   "source": [
    "model = SVC(C=1.0, gamma = 1.0, kernel = 'rbf')\n",
    "model.fit(scaled_X_train,y_train)"
   ]
  },
  {
   "cell_type": "code",
   "execution_count": 34,
   "id": "28aa5dcf",
   "metadata": {},
   "outputs": [],
   "source": [
    "y_pred = model.predict(scaled_X_test)"
   ]
  },
  {
   "cell_type": "code",
   "execution_count": 35,
   "id": "ce1acfc7",
   "metadata": {},
   "outputs": [
    {
     "name": "stdout",
     "output_type": "stream",
     "text": [
      "[[ 41   0   0   0   0   7   0   0]\n",
      " [  1 108   0   0   0   3   0  31]\n",
      " [  0   0   0   0   0   1   0   0]\n",
      " [  1   0   0   1   0   2   0   0]\n",
      " [  0   0   0   0   0   3   0   0]\n",
      " [  9   0   0   1   0 328   0   0]\n",
      " [  0   0   0   0   0   2   0   0]\n",
      " [  0  41   0   0   0   2   0 103]]\n"
     ]
    }
   ],
   "source": [
    "print(confusion_matrix(y_test, y_pred))"
   ]
  },
  {
   "cell_type": "code",
   "execution_count": 36,
   "id": "0655c2d2",
   "metadata": {},
   "outputs": [
    {
     "name": "stdout",
     "output_type": "stream",
     "text": [
      "              precision    recall  f1-score   support\n",
      "\n",
      "           0       0.79      0.85      0.82        48\n",
      "           1       0.72      0.76      0.74       143\n",
      "           2       0.00      0.00      0.00         1\n",
      "           4       0.50      0.25      0.33         4\n",
      "           5       0.00      0.00      0.00         3\n",
      "           6       0.94      0.97      0.96       338\n",
      "           7       0.00      0.00      0.00         2\n",
      "           8       0.77      0.71      0.74       146\n",
      "\n",
      "    accuracy                           0.85       685\n",
      "   macro avg       0.47      0.44      0.45       685\n",
      "weighted avg       0.84      0.85      0.84       685\n",
      "\n"
     ]
    },
    {
     "name": "stderr",
     "output_type": "stream",
     "text": [
      "C:\\Python310\\lib\\site-packages\\sklearn\\metrics\\_classification.py:1308: UndefinedMetricWarning: Precision and F-score are ill-defined and being set to 0.0 in labels with no predicted samples. Use `zero_division` parameter to control this behavior.\n",
      "  _warn_prf(average, modifier, msg_start, len(result))\n",
      "C:\\Python310\\lib\\site-packages\\sklearn\\metrics\\_classification.py:1308: UndefinedMetricWarning: Precision and F-score are ill-defined and being set to 0.0 in labels with no predicted samples. Use `zero_division` parameter to control this behavior.\n",
      "  _warn_prf(average, modifier, msg_start, len(result))\n",
      "C:\\Python310\\lib\\site-packages\\sklearn\\metrics\\_classification.py:1308: UndefinedMetricWarning: Precision and F-score are ill-defined and being set to 0.0 in labels with no predicted samples. Use `zero_division` parameter to control this behavior.\n",
      "  _warn_prf(average, modifier, msg_start, len(result))\n"
     ]
    }
   ],
   "source": [
    "print(classification_report(y_test, y_pred))"
   ]
  },
  {
   "cell_type": "code",
   "execution_count": 37,
   "id": "83742f3b",
   "metadata": {},
   "outputs": [
    {
     "name": "stderr",
     "output_type": "stream",
     "text": [
      "C:\\Python310\\lib\\site-packages\\sklearn\\model_selection\\_split.py:676: UserWarning: The least populated class in y has only 1 members, which is less than n_splits=5.\n",
      "  warnings.warn(\n"
     ]
    },
    {
     "data": {
      "text/plain": [
       "GridSearchCV(estimator=SVC(),\n",
       "             param_grid={'C': [0.1, 1, 10, 100, 1000],\n",
       "                         'gamma': [1, 0.1, 0.01, 0.001, 0.0001],\n",
       "                         'kernel': ['rbf']})"
      ]
     },
     "execution_count": 37,
     "metadata": {},
     "output_type": "execute_result"
    }
   ],
   "source": [
    "param_grid = {'C': [0.1, 1, 10, 100, 1000], 'gamma': [1,0.1,0.01,0.001,0.0001], 'kernel': ['rbf']}\n",
    "grid = GridSearchCV(SVC(), param_grid, refit=True)\n",
    "grid.fit(scaled_X_train,y_train)"
   ]
  },
  {
   "cell_type": "code",
   "execution_count": 38,
   "id": "fca288e0",
   "metadata": {},
   "outputs": [
    {
     "data": {
      "text/plain": [
       "{'C': 1000, 'gamma': 1, 'kernel': 'rbf'}"
      ]
     },
     "execution_count": 38,
     "metadata": {},
     "output_type": "execute_result"
    }
   ],
   "source": [
    "grid.best_params_"
   ]
  },
  {
   "cell_type": "code",
   "execution_count": 39,
   "id": "9ddaa066",
   "metadata": {},
   "outputs": [
    {
     "data": {
      "text/plain": [
       "SVC(C=1000, gamma=1)"
      ]
     },
     "execution_count": 39,
     "metadata": {},
     "output_type": "execute_result"
    }
   ],
   "source": [
    "grid.best_estimator_"
   ]
  },
  {
   "cell_type": "code",
   "execution_count": 40,
   "id": "0c858337",
   "metadata": {},
   "outputs": [
    {
     "name": "stdout",
     "output_type": "stream",
     "text": [
      "[[ 46   1   0   0   0   1   0   0]\n",
      " [  0 126   0   0   0   0   0  17]\n",
      " [  0   0   0   0   0   1   0   0]\n",
      " [  0   0   0   4   0   0   0   0]\n",
      " [  0   0   0   0   0   3   0   0]\n",
      " [  2   0   0   0   0 330   1   5]\n",
      " [  0   0   0   0   0   1   1   0]\n",
      " [  0  31   0   0   0   1   0 114]]\n"
     ]
    }
   ],
   "source": [
    "grid_predictions = grid.predict(scaled_X_test)\n",
    "print(confusion_matrix(y_test,grid_predictions))"
   ]
  },
  {
   "cell_type": "code",
   "execution_count": 41,
   "id": "8bc0b81d",
   "metadata": {},
   "outputs": [
    {
     "name": "stdout",
     "output_type": "stream",
     "text": [
      "              precision    recall  f1-score   support\n",
      "\n",
      "           0       0.96      0.96      0.96        48\n",
      "           1       0.80      0.88      0.84       143\n",
      "           2       0.00      0.00      0.00         1\n",
      "           4       1.00      1.00      1.00         4\n",
      "           5       0.00      0.00      0.00         3\n",
      "           6       0.98      0.98      0.98       338\n",
      "           7       0.50      0.50      0.50         2\n",
      "           8       0.84      0.78      0.81       146\n",
      "\n",
      "    accuracy                           0.91       685\n",
      "   macro avg       0.63      0.64      0.64       685\n",
      "weighted avg       0.90      0.91      0.90       685\n",
      "\n"
     ]
    },
    {
     "name": "stderr",
     "output_type": "stream",
     "text": [
      "C:\\Python310\\lib\\site-packages\\sklearn\\metrics\\_classification.py:1308: UndefinedMetricWarning: Precision and F-score are ill-defined and being set to 0.0 in labels with no predicted samples. Use `zero_division` parameter to control this behavior.\n",
      "  _warn_prf(average, modifier, msg_start, len(result))\n",
      "C:\\Python310\\lib\\site-packages\\sklearn\\metrics\\_classification.py:1308: UndefinedMetricWarning: Precision and F-score are ill-defined and being set to 0.0 in labels with no predicted samples. Use `zero_division` parameter to control this behavior.\n",
      "  _warn_prf(average, modifier, msg_start, len(result))\n",
      "C:\\Python310\\lib\\site-packages\\sklearn\\metrics\\_classification.py:1308: UndefinedMetricWarning: Precision and F-score are ill-defined and being set to 0.0 in labels with no predicted samples. Use `zero_division` parameter to control this behavior.\n",
      "  _warn_prf(average, modifier, msg_start, len(result))\n"
     ]
    }
   ],
   "source": [
    "print(classification_report(y_test,grid_predictions))"
   ]
  },
  {
   "cell_type": "code",
   "execution_count": 42,
   "id": "5472e77d",
   "metadata": {},
   "outputs": [],
   "source": [
    "# №5.4 Random Forest\n",
    "X = df.drop([\"Product\", \"Type\", \"Release Date\", \"Die Size (mm^2)\", \"Transistors (million)\", \"Foundry\"], axis=1)\n",
    "y = df[\"Foundry\"]\n",
    "X_train, X_test, y_train, y_test = train_test_split(X, y, test_size=0.20)"
   ]
  },
  {
   "cell_type": "code",
   "execution_count": 43,
   "id": "a65d1614",
   "metadata": {},
   "outputs": [
    {
     "data": {
      "text/plain": [
       "0.9810010960906101"
      ]
     },
     "metadata": {},
     "output_type": "display_data"
    }
   ],
   "source": [
    "ss = StandardScaler()\n",
    "X_train_scaled = ss.fit_transform(X_train)\n",
    "X_test_scaled = ss.transform(X_test)\n",
    "y_train = np.array(y_train)\n",
    "rfc = RandomForestClassifier()\n",
    "model=rfc.fit(X_train_scaled, y_train)\n",
    "display(model.score(X_train_scaled, y_train))"
   ]
  },
  {
   "cell_type": "code",
   "execution_count": 44,
   "id": "be4bac5f",
   "metadata": {},
   "outputs": [
    {
     "name": "stdout",
     "output_type": "stream",
     "text": [
      "0.9065693430656935\n"
     ]
    }
   ],
   "source": [
    "y_pred=model.predict(X_test_scaled)\n",
    "print(sklearn.metrics.accuracy_score(y_test, y_pred))"
   ]
  },
  {
   "cell_type": "code",
   "execution_count": 45,
   "id": "fad99267",
   "metadata": {},
   "outputs": [
    {
     "name": "stdout",
     "output_type": "stream",
     "text": [
      "[[ 39   1   0   0   2   0   0]\n",
      " [  1 139   0   0   0   0  20]\n",
      " [  0   0   0   0   1   0   0]\n",
      " [  1   0   0   4   3   0   0]\n",
      " [  0   1   0   0 336   0   1]\n",
      " [  0   0   0   0   8   1   0]\n",
      " [  0  23   0   0   2   0 102]]\n"
     ]
    }
   ],
   "source": [
    "print(confusion_matrix(y_test, y_pred))"
   ]
  },
  {
   "cell_type": "code",
   "execution_count": 46,
   "id": "c2ca8018",
   "metadata": {},
   "outputs": [
    {
     "name": "stdout",
     "output_type": "stream",
     "text": [
      "              precision    recall  f1-score   support\n",
      "\n",
      "           0       0.95      0.93      0.94        42\n",
      "           1       0.85      0.87      0.86       160\n",
      "           3       0.00      0.00      0.00         1\n",
      "           4       1.00      0.50      0.67         8\n",
      "           6       0.95      0.99      0.97       338\n",
      "           7       1.00      0.11      0.20         9\n",
      "           8       0.83      0.80      0.82       127\n",
      "\n",
      "    accuracy                           0.91       685\n",
      "   macro avg       0.80      0.60      0.64       685\n",
      "weighted avg       0.91      0.91      0.90       685\n",
      "\n"
     ]
    },
    {
     "name": "stderr",
     "output_type": "stream",
     "text": [
      "C:\\Python310\\lib\\site-packages\\sklearn\\metrics\\_classification.py:1308: UndefinedMetricWarning: Precision and F-score are ill-defined and being set to 0.0 in labels with no predicted samples. Use `zero_division` parameter to control this behavior.\n",
      "  _warn_prf(average, modifier, msg_start, len(result))\n",
      "C:\\Python310\\lib\\site-packages\\sklearn\\metrics\\_classification.py:1308: UndefinedMetricWarning: Precision and F-score are ill-defined and being set to 0.0 in labels with no predicted samples. Use `zero_division` parameter to control this behavior.\n",
      "  _warn_prf(average, modifier, msg_start, len(result))\n",
      "C:\\Python310\\lib\\site-packages\\sklearn\\metrics\\_classification.py:1308: UndefinedMetricWarning: Precision and F-score are ill-defined and being set to 0.0 in labels with no predicted samples. Use `zero_division` parameter to control this behavior.\n",
      "  _warn_prf(average, modifier, msg_start, len(result))\n"
     ]
    }
   ],
   "source": [
    "print(classification_report(y_test, y_pred))"
   ]
  },
  {
   "cell_type": "code",
   "execution_count": 47,
   "id": "118d3abb",
   "metadata": {},
   "outputs": [],
   "source": [
    "# №5.5 AdaBoost\n",
    "X = df.drop([\"Product\", \"Type\", \"Release Date\", \"Die Size (mm^2)\", \"Transistors (million)\", \"Foundry\"], axis=1)\n",
    "y = df[\"Foundry\"]\n",
    "X_train, X_test, y_train, y_test = train_test_split(X, y, test_size=0.20)"
   ]
  },
  {
   "cell_type": "code",
   "execution_count": 48,
   "id": "cf437fe0",
   "metadata": {},
   "outputs": [
    {
     "name": "stdout",
     "output_type": "stream",
     "text": [
      "0.7021897810218978\n"
     ]
    }
   ],
   "source": [
    "abc = AdaBoostClassifier(n_estimators=50, learning_rate=1)\n",
    "model = abc.fit(X_train, y_train)\n",
    "\n",
    "y_pred = model.predict(X_test)\n",
    "print(sklearn.metrics.accuracy_score(y_test, y_pred))"
   ]
  },
  {
   "cell_type": "code",
   "execution_count": 49,
   "id": "992fa2d0",
   "metadata": {},
   "outputs": [
    {
     "name": "stdout",
     "output_type": "stream",
     "text": [
      "              precision    recall  f1-score   support\n",
      "\n",
      "           0       0.44      0.90      0.59        58\n",
      "           1       0.66      0.57      0.61       166\n",
      "           2       0.00      0.00      0.00         1\n",
      "           4       0.00      0.00      0.00        15\n",
      "           5       0.00      0.00      0.00         3\n",
      "           6       0.90      0.83      0.86       318\n",
      "           7       0.00      0.00      0.00         3\n",
      "           8       0.53      0.58      0.56       121\n",
      "\n",
      "    accuracy                           0.70       685\n",
      "   macro avg       0.32      0.36      0.33       685\n",
      "weighted avg       0.71      0.70      0.70       685\n",
      "\n"
     ]
    },
    {
     "name": "stderr",
     "output_type": "stream",
     "text": [
      "C:\\Python310\\lib\\site-packages\\sklearn\\metrics\\_classification.py:1308: UndefinedMetricWarning: Precision and F-score are ill-defined and being set to 0.0 in labels with no predicted samples. Use `zero_division` parameter to control this behavior.\n",
      "  _warn_prf(average, modifier, msg_start, len(result))\n",
      "C:\\Python310\\lib\\site-packages\\sklearn\\metrics\\_classification.py:1308: UndefinedMetricWarning: Precision and F-score are ill-defined and being set to 0.0 in labels with no predicted samples. Use `zero_division` parameter to control this behavior.\n",
      "  _warn_prf(average, modifier, msg_start, len(result))\n",
      "C:\\Python310\\lib\\site-packages\\sklearn\\metrics\\_classification.py:1308: UndefinedMetricWarning: Precision and F-score are ill-defined and being set to 0.0 in labels with no predicted samples. Use `zero_division` parameter to control this behavior.\n",
      "  _warn_prf(average, modifier, msg_start, len(result))\n"
     ]
    }
   ],
   "source": [
    "print(classification_report(y_test, y_pred))"
   ]
  },
  {
   "cell_type": "code",
   "execution_count": 50,
   "id": "40719f86",
   "metadata": {},
   "outputs": [
    {
     "name": "stdout",
     "output_type": "stream",
     "text": [
      "[[ 52   0   0   0   0   6   0   0]\n",
      " [  5  94   0   0   0   6   0  61]\n",
      " [  0   0   0   0   0   1   0   0]\n",
      " [ 15   0   0   0   0   0   0   0]\n",
      " [  0   0   0   0   0   3   0   0]\n",
      " [ 45   8   0   0   0 265   0   0]\n",
      " [  0   0   0   0   0   3   0   0]\n",
      " [  0  40   0   0   0  11   0  70]]\n"
     ]
    }
   ],
   "source": [
    "print(confusion_matrix(y_test, y_pred))"
   ]
  },
  {
   "cell_type": "code",
   "execution_count": null,
   "id": "4fa19216",
   "metadata": {},
   "outputs": [],
   "source": []
  }
 ],
 "metadata": {
  "kernelspec": {
   "display_name": "Python 3 (ipykernel)",
   "language": "python",
   "name": "python3"
  },
  "language_info": {
   "codemirror_mode": {
    "name": "ipython",
    "version": 3
   },
   "file_extension": ".py",
   "mimetype": "text/x-python",
   "name": "python",
   "nbconvert_exporter": "python",
   "pygments_lexer": "ipython3",
   "version": "3.10.0"
  }
 },
 "nbformat": 4,
 "nbformat_minor": 5
}
