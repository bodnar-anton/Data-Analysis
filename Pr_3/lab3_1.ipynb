{
 "cells": [
  {
   "cell_type": "code",
   "execution_count": 1,
   "id": "760ff5ae",
   "metadata": {},
   "outputs": [],
   "source": [
    "import pandas as pd\n",
    "import numpy as np\n",
    "import sklearn\n",
    "from sklearn.preprocessing import LabelEncoder\n",
    "from sklearn.model_selection import train_test_split\n",
    "from keras.models import Sequential\n",
    "from keras import layers"
   ]
  },
  {
   "cell_type": "code",
   "execution_count": 2,
   "id": "46e53e8a",
   "metadata": {},
   "outputs": [
    {
     "data": {
      "text/html": [
       "<div>\n",
       "<style scoped>\n",
       "    .dataframe tbody tr th:only-of-type {\n",
       "        vertical-align: middle;\n",
       "    }\n",
       "\n",
       "    .dataframe tbody tr th {\n",
       "        vertical-align: top;\n",
       "    }\n",
       "\n",
       "    .dataframe thead th {\n",
       "        text-align: right;\n",
       "    }\n",
       "</style>\n",
       "<table border=\"1\" class=\"dataframe\">\n",
       "  <thead>\n",
       "    <tr style=\"text-align: right;\">\n",
       "      <th></th>\n",
       "      <th>Product</th>\n",
       "      <th>Type</th>\n",
       "      <th>Release Date</th>\n",
       "      <th>Process Size (nm)</th>\n",
       "      <th>TDP (W)</th>\n",
       "      <th>Die Size (mm^2)</th>\n",
       "      <th>Transistors (million)</th>\n",
       "      <th>Freq (MHz)</th>\n",
       "      <th>Foundry</th>\n",
       "    </tr>\n",
       "  </thead>\n",
       "  <tbody>\n",
       "    <tr>\n",
       "      <th>0</th>\n",
       "      <td>131</td>\n",
       "      <td>0</td>\n",
       "      <td>244</td>\n",
       "      <td>13</td>\n",
       "      <td>44</td>\n",
       "      <td>15</td>\n",
       "      <td>32</td>\n",
       "      <td>401</td>\n",
       "      <td>8</td>\n",
       "    </tr>\n",
       "    <tr>\n",
       "      <th>1</th>\n",
       "      <td>114</td>\n",
       "      <td>0</td>\n",
       "      <td>1011</td>\n",
       "      <td>4</td>\n",
       "      <td>34</td>\n",
       "      <td>81</td>\n",
       "      <td>154</td>\n",
       "      <td>437</td>\n",
       "      <td>8</td>\n",
       "    </tr>\n",
       "    <tr>\n",
       "      <th>3</th>\n",
       "      <td>2077</td>\n",
       "      <td>0</td>\n",
       "      <td>768</td>\n",
       "      <td>7</td>\n",
       "      <td>78</td>\n",
       "      <td>70</td>\n",
       "      <td>124</td>\n",
       "      <td>381</td>\n",
       "      <td>1</td>\n",
       "    </tr>\n",
       "    <tr>\n",
       "      <th>4</th>\n",
       "      <td>502</td>\n",
       "      <td>0</td>\n",
       "      <td>580</td>\n",
       "      <td>11</td>\n",
       "      <td>111</td>\n",
       "      <td>115</td>\n",
       "      <td>104</td>\n",
       "      <td>449</td>\n",
       "      <td>8</td>\n",
       "    </tr>\n",
       "    <tr>\n",
       "      <th>5</th>\n",
       "      <td>2076</td>\n",
       "      <td>0</td>\n",
       "      <td>768</td>\n",
       "      <td>7</td>\n",
       "      <td>92</td>\n",
       "      <td>70</td>\n",
       "      <td>124</td>\n",
       "      <td>412</td>\n",
       "      <td>1</td>\n",
       "    </tr>\n",
       "  </tbody>\n",
       "</table>\n",
       "</div>"
      ],
      "text/plain": [
       "   Product  Type  Release Date  Process Size (nm)  TDP (W)  Die Size (mm^2)  \\\n",
       "0      131     0           244                 13       44               15   \n",
       "1      114     0          1011                  4       34               81   \n",
       "3     2077     0           768                  7       78               70   \n",
       "4      502     0           580                 11      111              115   \n",
       "5     2076     0           768                  7       92               70   \n",
       "\n",
       "   Transistors (million)  Freq (MHz)  Foundry  \n",
       "0                     32         401        8  \n",
       "1                    154         437        8  \n",
       "3                    124         381        1  \n",
       "4                    104         449        8  \n",
       "5                    124         412        1  "
      ]
     },
     "execution_count": 2,
     "metadata": {},
     "output_type": "execute_result"
    }
   ],
   "source": [
    "df = pd.read_csv(\"./chip_dataset.csv\")\n",
    "df = df.drop([\"Unnamed: 0\", \"Vendor\", \"FP16 GFLOPS\", \"FP32 GFLOPS\", \"FP64 GFLOPS\"], axis=1)\n",
    "df.dropna(inplace=True)\n",
    "df=df.apply(sklearn.preprocessing.LabelEncoder().fit_transform)\n",
    "df.head()"
   ]
  },
  {
   "cell_type": "code",
   "execution_count": 3,
   "id": "487b2184",
   "metadata": {},
   "outputs": [],
   "source": [
    "X = df.drop([\"Product\", \"Type\", \"Release Date\", \"Die Size (mm^2)\", \"Transistors (million)\", \"Foundry\"], axis=1)\n",
    "y = df[\"Foundry\"]\n",
    "X_train, X_test, y_train, y_test = train_test_split(X, y, test_size=0.20)"
   ]
  },
  {
   "cell_type": "code",
   "execution_count": 4,
   "id": "ad39624a",
   "metadata": {},
   "outputs": [],
   "source": [
    "input_dim = X_train.shape[1]\n",
    "X_train /= 255\n",
    "X_test /= 255\n",
    "\n",
    "model = Sequential()\n",
    "model.add(layers.Dense(128, input_dim=input_dim, activation='relu'))\n",
    "model.add(layers.Dense(1, activation='softmax'))"
   ]
  },
  {
   "cell_type": "code",
   "execution_count": 5,
   "id": "4fa19216",
   "metadata": {},
   "outputs": [
    {
     "name": "stdout",
     "output_type": "stream",
     "text": [
      "Model: \"sequential\"\n",
      "_________________________________________________________________\n",
      " Layer (type)                Output Shape              Param #   \n",
      "=================================================================\n",
      " dense (Dense)               (None, 128)               512       \n",
      "                                                                 \n",
      " dense_1 (Dense)             (None, 1)                 129       \n",
      "                                                                 \n",
      "=================================================================\n",
      "Total params: 641\n",
      "Trainable params: 641\n",
      "Non-trainable params: 0\n",
      "_________________________________________________________________\n"
     ]
    }
   ],
   "source": [
    "model.compile(loss='binary_crossentropy', \n",
    "              optimizer='adam', \n",
    "              metrics=['accuracy'])\n",
    "model.summary()"
   ]
  },
  {
   "cell_type": "code",
   "execution_count": 6,
   "id": "e9edd17e",
   "metadata": {},
   "outputs": [],
   "source": [
    "history = model.fit(X_train, \n",
    "                    y_train, \n",
    "                    epochs=10, \n",
    "                    verbose=False, \n",
    "                    validation_data=(X_test, y_test), \n",
    "                    batch_size=32)"
   ]
  },
  {
   "cell_type": "code",
   "execution_count": 7,
   "id": "7b0e8172",
   "metadata": {},
   "outputs": [],
   "source": [
    "from keras.backend import clear_session\n",
    "clear_session()"
   ]
  },
  {
   "cell_type": "code",
   "execution_count": 8,
   "id": "1f923cd8",
   "metadata": {},
   "outputs": [
    {
     "name": "stdout",
     "output_type": "stream",
     "text": [
      "Training Accuracy: 0.23821702599525452\n",
      "Testing Accuracy: 0.2233576625585556\n"
     ]
    }
   ],
   "source": [
    "loss, accuracy = model.evaluate(X_train, y_train, verbose=False)\n",
    "print(\"Training Accuracy:\", accuracy)\n",
    "loss, accuracy = model.evaluate(X_test, y_test, verbose=False)\n",
    "print(\"Testing Accuracy:\", accuracy)"
   ]
  },
  {
   "cell_type": "code",
   "execution_count": null,
   "id": "cf225c54",
   "metadata": {},
   "outputs": [],
   "source": []
  }
 ],
 "metadata": {
  "kernelspec": {
   "display_name": "Python 3 (ipykernel)",
   "language": "python",
   "name": "python3"
  },
  "language_info": {
   "codemirror_mode": {
    "name": "ipython",
    "version": 3
   },
   "file_extension": ".py",
   "mimetype": "text/x-python",
   "name": "python",
   "nbconvert_exporter": "python",
   "pygments_lexer": "ipython3",
   "version": "3.10.0"
  }
 },
 "nbformat": 4,
 "nbformat_minor": 5
}
