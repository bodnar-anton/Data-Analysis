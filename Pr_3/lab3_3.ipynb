{
 "cells": [
  {
   "cell_type": "code",
   "execution_count": 1,
   "id": "3d47a253",
   "metadata": {},
   "outputs": [
    {
     "name": "stderr",
     "output_type": "stream",
     "text": [
      "C:\\Python310\\lib\\site-packages\\tqdm\\auto.py:22: TqdmWarning: IProgress not found. Please update jupyter and ipywidgets. See https://ipywidgets.readthedocs.io/en/stable/user_install.html\n",
      "  from .autonotebook import tqdm as notebook_tqdm\n"
     ]
    }
   ],
   "source": [
    "import numpy as np\n",
    "\n",
    "import tensorflow_datasets as tfds\n",
    "import tensorflow as tf\n",
    "import matplotlib.pyplot as plt"
   ]
  },
  {
   "cell_type": "code",
   "execution_count": 3,
   "id": "18e395ed",
   "metadata": {},
   "outputs": [
    {
     "data": {
      "text/plain": [
       "(TensorSpec(shape=(), dtype=tf.string, name=None),\n",
       " TensorSpec(shape=(), dtype=tf.int64, name=None))"
      ]
     },
     "execution_count": 3,
     "metadata": {},
     "output_type": "execute_result"
    }
   ],
   "source": [
    "dataset, info = tfds.load('yelp_polarity_reviews', \n",
    "                          with_info=True,\n",
    "                          as_supervised=True)\n",
    "train_dataset, test_dataset = dataset['train'], dataset['test']\n",
    "\n",
    "train_dataset.element_spec"
   ]
  },
  {
   "cell_type": "code",
   "execution_count": 4,
   "id": "1ec6a1f1",
   "metadata": {},
   "outputs": [
    {
     "name": "stdout",
     "output_type": "stream",
     "text": [
      "text:  b\"The Groovy P. and I ventured to his old stomping grounds for lunch today.  The '5 and Diner' on 16th St and Colter left me with little to ask for.  Before coming here I had a preconceived notion that 5 & Diners were dirty and nasty. Not the case at all.\\\\n\\\\nWe walk in and let the waitress know we want to sit outside (since it's so nice and they had misters).  We get two different servers bringing us stuff (talk about service) and I ask the one waitress for recommendations.  I didn't listen to her, of course, and ordered the Southwestern Burger w/ coleslaw and started with a nice stack of rings.\\\\n\\\\nThe Onion Rings were perfectly cooked.  They looked like they were prepackaged, but they were very crispy and I could actually bite through the onion without pulling the entire thing out (don't you hate that?!!!)\\\\n\\\\nThe Southwestern Burger was order Medium Rare and was cooked accordingly.  Soft, juicy, and pink with a nice crispy browned outer layer that can only be achieved on a well used grill.  The creaminess of the chipotle mayo paired beautifully with the green chiles.  Unfortunately, because I ate too many onion rings, I couldn't finish my burger.  What a shame!\\\\n\\\\nThe Coleslaw was just how I like it.  It's hard to find a really good coleslaw.  I prefer mine to be slightly sweet, not sour.  Too much vinegar in slaw ruins it in my opinion.  This slaw had the perfect marriage of mayo, vinegar, and sugar. Not to mention carrots...\\\\n\\\\nMy experience here was great!  The servers were top notch and kept my water full the entire time and actually chatted with us for a few minutes.\\\\n\\\\nThere is an artist guy named Ross who has been there every day for 5393 days straight. No, not an employee.  He goes there and does his art! He hasn't missed a SINGLE day!!! That's like... 15 years! So if you wanna seem to be 'in the know' ask where Ross is... They'll be able to tell you.\\\\n\\\\nTime for a nap!\"\n",
      "label:  1\n"
     ]
    }
   ],
   "source": [
    "for example, label in train_dataset.take(1):\n",
    "    print('text: ', example.numpy())\n",
    "    print('label: ', label.numpy())"
   ]
  },
  {
   "cell_type": "code",
   "execution_count": 5,
   "id": "b68543d6",
   "metadata": {},
   "outputs": [],
   "source": [
    "BUFFER_SIZE = 10000\n",
    "BATCH_SIZE = 64"
   ]
  },
  {
   "cell_type": "code",
   "execution_count": 6,
   "id": "cc406dee",
   "metadata": {},
   "outputs": [],
   "source": [
    "train_dataset = train_dataset.shuffle(BUFFER_SIZE).batch(BATCH_SIZE).prefetch(tf.data.AUTOTUNE)\n",
    "test_dataset = test_dataset.batch(BATCH_SIZE).prefetch(tf.data.AUTOTUNE)"
   ]
  },
  {
   "cell_type": "code",
   "execution_count": 7,
   "id": "422ca0ac",
   "metadata": {},
   "outputs": [
    {
     "name": "stdout",
     "output_type": "stream",
     "text": [
      "texts:  [b'We took the kids here on Friday to celebrate both our graduation. It was a big disappointment and I had to write a review before I forget!! Service was horrible, they were not busy at all, but it took us 45 minutes to get our food. Our waiter was not friendly at all and didn\\'t care about us at all. We watch other servers tend to their customers quickly while ours didn\\'t. I would see her trying to blame other people for the poor service to her other tables. We were there for over two hours which is ridiculous for this type of restaurant. When we left my husband told the manager their service was horrible...his only response was \\\\\"\"what really??\\\\\"\" No, apologies whatsoever.\\\\n\\\\nAlso we love the strawberry freckle lemonade. However, the one here taste like cold water on ice only! We won\\'t be going back to this location EVER!'\n",
      " b\"The one other buffet besides the Wynn that I actually didn't feel completely repulsed afterwards. Being somewhat a germ freak, I'm not the biggest fan of buffets. After my boyfriend and I spent a few bucks at the casino and earned 700 points, we received buy one get one for the buffet. We went on a Sunday night and It happened to be the seafood buffet which included unlimited beer and wine. After waiting in line for nearly 30 minutes we finally got seated. Very disappointed in the sushi but everything else tasted pretty damn good. Its kinda ridiculous how busy is it. What a great place to people watch, haha. Even though I didn't have any room for dessert, I forced myself to try some and It was decent. Thank you to another Vegas buffet that I will be working off for the next 2 weeks, YAY!\"\n",
      " b\"I love the soondubu here. I remember my first time here and I made a rookie mistake of ordering plain (no spice whatsoever) soondubu since I'm not a big fan of spicy food. It was a clear broth of blah! Bring on the red spicy paste!\\\\n\\\\nAfter a few trips here, I've been getting the medium spicy soondubu. I either get the #4 beef soondubu or #1 combination soondubu - without seafood since I'm allergic. We've also tried the dolsot bibimbap, galbi and bulgogi. They'll give you rice and banchan.\\\\n\\\\nDolsot Bibimbap:\\\\nRice topped with egg, veggies and meat. Bibimbap isn't supposed to be loaded with meat so, if you're a big carnivore, you should not get this. Add lots of spicy red paste depending on your spicy tolerance. 4/5\\\\n\\\\nSoondubu:\\\\nYou have to get at least medium spicy otherwise, you're wasting your time. There's lots of tofu and meat. The broth is great and perfect if you have a cold. Yummm...5/5\\\\n\\\\nThe galbi and bulgogi aren't spectacular but they're both good. But the main reason to come here is the soondubu.\"]\n",
      "\n",
      "labels:  [0 1 1]\n"
     ]
    }
   ],
   "source": [
    "for example, label in train_dataset.take(1):\n",
    "    print('texts: ', example.numpy()[:3])\n",
    "    print()\n",
    "    print('labels: ', label.numpy()[:3])"
   ]
  },
  {
   "cell_type": "code",
   "execution_count": 8,
   "id": "1d3fa6e7",
   "metadata": {},
   "outputs": [
    {
     "name": "stdout",
     "output_type": "stream",
     "text": [
      "WARNING:tensorflow:From C:\\Python310\\lib\\site-packages\\tensorflow\\python\\autograph\\pyct\\static_analysis\\liveness.py:83: Analyzer.lamba_check (from tensorflow.python.autograph.pyct.static_analysis.liveness) is deprecated and will be removed after 2023-09-23.\n",
      "Instructions for updating:\n",
      "Lambda fuctions will be no more assumed to be used in the statement where they are used, or at least in the same block. https://github.com/tensorflow/tensorflow/issues/56089\n"
     ]
    },
    {
     "name": "stderr",
     "output_type": "stream",
     "text": [
      "WARNING:tensorflow:From C:\\Python310\\lib\\site-packages\\tensorflow\\python\\autograph\\pyct\\static_analysis\\liveness.py:83: Analyzer.lamba_check (from tensorflow.python.autograph.pyct.static_analysis.liveness) is deprecated and will be removed after 2023-09-23.\n",
      "Instructions for updating:\n",
      "Lambda fuctions will be no more assumed to be used in the statement where they are used, or at least in the same block. https://github.com/tensorflow/tensorflow/issues/56089\n"
     ]
    }
   ],
   "source": [
    "VOCAB_SIZE = 1000\n",
    "encoder = tf.keras.layers.TextVectorization(\n",
    "    max_tokens=VOCAB_SIZE)\n",
    "encoder.adapt(train_dataset.map(lambda text, label: text))"
   ]
  },
  {
   "cell_type": "code",
   "execution_count": 9,
   "id": "871bd615",
   "metadata": {},
   "outputs": [
    {
     "data": {
      "text/plain": [
       "array(['', '[UNK]', 'the', 'and', 'i', 'to', 'a', 'was', 'of', 'it',\n",
       "       'for', 'in', 'is', 'that', 'my', 'we', 'this', 'with', 'but',\n",
       "       'they'], dtype='<U13')"
      ]
     },
     "execution_count": 9,
     "metadata": {},
     "output_type": "execute_result"
    }
   ],
   "source": [
    "vocab = np.array(encoder.get_vocabulary())\n",
    "vocab[:20]"
   ]
  },
  {
   "cell_type": "code",
   "execution_count": 10,
   "id": "01d40d9c",
   "metadata": {},
   "outputs": [
    {
     "data": {
      "text/plain": [
       "array([[ 15, 155,   2, ...,   0,   0,   0],\n",
       "       [  2,  44,  80, ...,   0,   0,   0],\n",
       "       [  4, 119,   2, ...,   0,   0,   0]], dtype=int64)"
      ]
     },
     "execution_count": 10,
     "metadata": {},
     "output_type": "execute_result"
    }
   ],
   "source": [
    "encoded_example = encoder(example)[:3].numpy()\n",
    "encoded_example"
   ]
  },
  {
   "cell_type": "code",
   "execution_count": 11,
   "id": "c7f92b08",
   "metadata": {},
   "outputs": [
    {
     "name": "stdout",
     "output_type": "stream",
     "text": [
      "Original:  b'We took the kids here on Friday to celebrate both our graduation. It was a big disappointment and I had to write a review before I forget!! Service was horrible, they were not busy at all, but it took us 45 minutes to get our food. Our waiter was not friendly at all and didn\\'t care about us at all. We watch other servers tend to their customers quickly while ours didn\\'t. I would see her trying to blame other people for the poor service to her other tables. We were there for over two hours which is ridiculous for this type of restaurant. When we left my husband told the manager their service was horrible...his only response was \\\\\"\"what really??\\\\\"\" No, apologies whatsoever.\\\\n\\\\nAlso we love the strawberry freckle lemonade. However, the one here taste like cold water on ice only! We won\\'t be going back to this location EVER!'\n",
      "Round-trip:  we took the kids here on friday to [UNK] both our [UNK] it was a big [UNK] and i had to write a review before i [UNK] service was horrible they were not busy at all but it took us 45 minutes to get our food our waiter was not friendly at all and didnt care about us at all we watch other servers [UNK] to their customers quickly while [UNK] didnt i would see her trying to [UNK] other people for the poor service to her other tables we were there for over two hours which is ridiculous for this type of restaurant when we left my husband told the manager their service was [UNK] only [UNK] was what really no [UNK] [UNK] we love the [UNK] [UNK] [UNK] however the one here taste like cold water on ice only we wont be going back to this location ever                                                                                                                                                                                                                                                                                                                                                                                                                                                                                                                                                                                     \n",
      "\n",
      "Original:  b\"The one other buffet besides the Wynn that I actually didn't feel completely repulsed afterwards. Being somewhat a germ freak, I'm not the biggest fan of buffets. After my boyfriend and I spent a few bucks at the casino and earned 700 points, we received buy one get one for the buffet. We went on a Sunday night and It happened to be the seafood buffet which included unlimited beer and wine. After waiting in line for nearly 30 minutes we finally got seated. Very disappointed in the sushi but everything else tasted pretty damn good. Its kinda ridiculous how busy is it. What a great place to people watch, haha. Even though I didn't have any room for dessert, I forced myself to try some and It was decent. Thank you to another Vegas buffet that I will be working off for the next 2 weeks, YAY!\"\n",
      "Round-trip:  the one other buffet [UNK] the [UNK] that i actually didnt feel completely [UNK] [UNK] being [UNK] a [UNK] [UNK] im not the [UNK] fan of [UNK] after my boyfriend and i spent a few bucks at the casino and [UNK] [UNK] [UNK] we received buy one get one for the buffet we went on a sunday night and it happened to be the seafood buffet which included [UNK] beer and wine after waiting in line for [UNK] 30 minutes we finally got seated very disappointed in the sushi but everything else tasted pretty [UNK] good its kinda ridiculous how busy is it what a great place to people watch [UNK] even though i didnt have any room for dessert i [UNK] myself to try some and it was decent thank you to another vegas buffet that i will be working off for the next 2 weeks [UNK]                                                                                                                                                                                                                                                                                                                                                                                                                                                                                                                                                                                       \n",
      "\n",
      "Original:  b\"I love the soondubu here. I remember my first time here and I made a rookie mistake of ordering plain (no spice whatsoever) soondubu since I'm not a big fan of spicy food. It was a clear broth of blah! Bring on the red spicy paste!\\\\n\\\\nAfter a few trips here, I've been getting the medium spicy soondubu. I either get the #4 beef soondubu or #1 combination soondubu - without seafood since I'm allergic. We've also tried the dolsot bibimbap, galbi and bulgogi. They'll give you rice and banchan.\\\\n\\\\nDolsot Bibimbap:\\\\nRice topped with egg, veggies and meat. Bibimbap isn't supposed to be loaded with meat so, if you're a big carnivore, you should not get this. Add lots of spicy red paste depending on your spicy tolerance. 4/5\\\\n\\\\nSoondubu:\\\\nYou have to get at least medium spicy otherwise, you're wasting your time. There's lots of tofu and meat. The broth is great and perfect if you have a cold. Yummm...5/5\\\\n\\\\nThe galbi and bulgogi aren't spectacular but they're both good. But the main reason to come here is the soondubu.\"\n",
      "Round-trip:  i love the [UNK] here i remember my first time here and i made a [UNK] [UNK] of ordering [UNK] no [UNK] [UNK] [UNK] since im not a big fan of spicy food it was a [UNK] [UNK] of [UNK] bring on the red spicy [UNK] a few [UNK] here ive been getting the medium spicy [UNK] i either get the 4 beef [UNK] or 1 [UNK] [UNK] without seafood since im [UNK] weve also tried the [UNK] [UNK] [UNK] and [UNK] [UNK] give you rice and [UNK] [UNK] [UNK] with egg veggies and meat [UNK] isnt supposed to be [UNK] with meat so if youre a big [UNK] you should not get this add lots of spicy red [UNK] [UNK] on your spicy [UNK] [UNK] have to get at least medium spicy [UNK] youre [UNK] your time theres lots of [UNK] and meat the [UNK] is great and perfect if you have a cold [UNK] [UNK] and [UNK] arent [UNK] but theyre both good but the main reason to come here is the [UNK]                                                                                                                                                                                                                                                                                                                                                                                                                                                                                                                                                            \n",
      "\n"
     ]
    }
   ],
   "source": [
    "for n in range(3):\n",
    "    print(\"Original: \", example[n].numpy())\n",
    "    print(\"Round-trip: \", \" \".join(vocab[encoded_example[n]]))\n",
    "    print()"
   ]
  },
  {
   "cell_type": "code",
   "execution_count": 12,
   "id": "0b8e620b",
   "metadata": {},
   "outputs": [],
   "source": [
    "model = tf.keras.Sequential([\n",
    "    encoder,\n",
    "    tf.keras.layers.Embedding(\n",
    "        input_dim=len(encoder.get_vocabulary()),\n",
    "        output_dim=64,\n",
    "        mask_zero=True),\n",
    "    tf.keras.layers.Bidirectional(tf.keras.layers.LSTM(64)),\n",
    "    tf.keras.layers.Dense(64, activation='relu'),\n",
    "    tf.keras.layers.Dense(1)\n",
    "])"
   ]
  },
  {
   "cell_type": "code",
   "execution_count": 13,
   "id": "16c67e4d",
   "metadata": {},
   "outputs": [
    {
     "name": "stdout",
     "output_type": "stream",
     "text": [
      "[False, True, True, True, True]\n"
     ]
    }
   ],
   "source": [
    "print([layer.supports_masking for layer in model.layers])"
   ]
  },
  {
   "cell_type": "code",
   "execution_count": 14,
   "id": "345cd0f6",
   "metadata": {},
   "outputs": [],
   "source": [
    "model.compile(loss=tf.keras.losses.BinaryCrossentropy(from_logits=True),\n",
    "              optimizer=tf.keras.optimizers.Adam(1e-4),\n",
    "              metrics=['accuracy'])"
   ]
  },
  {
   "cell_type": "code",
   "execution_count": 15,
   "id": "b4b25c2d",
   "metadata": {},
   "outputs": [
    {
     "name": "stdout",
     "output_type": "stream",
     "text": [
      "8750/8750 [==============================] - 17826s 2s/step - loss: 0.2566 - accuracy: 0.8837 - val_loss: 0.2112 - val_accuracy: 0.9042\n"
     ]
    }
   ],
   "source": [
    "history = model.fit(train_dataset, epochs=1,\n",
    "                    validation_data=test_dataset,\n",
    "                    validation_steps=30)"
   ]
  },
  {
   "cell_type": "code",
   "execution_count": 16,
   "id": "77b4760a",
   "metadata": {},
   "outputs": [
    {
     "name": "stdout",
     "output_type": "stream",
     "text": [
      "594/594 [==============================] - 287s 483ms/step - loss: 0.2281 - accuracy: 0.8948\n",
      "Test Loss: 0.2280832678079605\n",
      "Test Accuracy: 0.894789457321167\n"
     ]
    }
   ],
   "source": [
    "test_loss, test_acc = model.evaluate(test_dataset)\n",
    "\n",
    "print('Test Loss:', test_loss)\n",
    "print('Test Accuracy:', test_acc)"
   ]
  }
 ],
 "metadata": {
  "kernelspec": {
   "display_name": "Python 3 (ipykernel)",
   "language": "python",
   "name": "python3"
  },
  "language_info": {
   "codemirror_mode": {
    "name": "ipython",
    "version": 3
   },
   "file_extension": ".py",
   "mimetype": "text/x-python",
   "name": "python",
   "nbconvert_exporter": "python",
   "pygments_lexer": "ipython3",
   "version": "3.10.0"
  }
 },
 "nbformat": 4,
 "nbformat_minor": 5
}
